{
 "cells": [
  {
   "cell_type": "code",
   "execution_count": 3,
   "metadata": {},
   "outputs": [
    {
     "name": "stdout",
     "output_type": "stream",
     "text": [
      "Go to directory: /Users/yunjunz/insarlab/PYSAR_EXAMPLE/AlcedoSenDT128/PYSAR\n",
      "view.py avgPhaseVelocity.h5 -m maskSpatialCoh.h5 --fontsize 12 --figsize 4 3 --notitle --dpi 600 --nodisplay\n"
     ]
    },
    {
     "data": {
      "text/plain": [
       "0"
      ]
     },
     "execution_count": 3,
     "metadata": {},
     "output_type": "execute_result"
    }
   ],
   "source": [
    "import os\n",
    "\n",
    "work_dir = '~/insarlab/PYSAR_EXAMPLE/AlcedoSenDT128/PYSAR'\n",
    "work_dir = os.path.expanduser(work_dir)\n",
    "os.chdir(work_dir)\n",
    "print('Go to directory: '+work_dir)\n",
    "\n",
    "plotCmd = 'view.py avgPhaseVelocity.h5 -m maskSpatialCoh.h5 --fontsize 12 --figsize 4 3 --notitle --dpi 600 --nodisplay'\n",
    "print(plotCmd)\n",
    "os.system(plotCmd)\n"
   ]
  },
  {
   "cell_type": "code",
   "execution_count": null,
   "metadata": {
    "collapsed": true
   },
   "outputs": [],
   "source": []
  }
 ],
 "metadata": {
  "kernelspec": {
   "display_name": "Python 3",
   "language": "python",
   "name": "python3"
  },
  "language_info": {
   "codemirror_mode": {
    "name": "ipython",
    "version": 3
   },
   "file_extension": ".py",
   "mimetype": "text/x-python",
   "name": "python",
   "nbconvert_exporter": "python",
   "pygments_lexer": "ipython3",
   "version": "3.6.4"
  }
 },
 "nbformat": 4,
 "nbformat_minor": 2
}
