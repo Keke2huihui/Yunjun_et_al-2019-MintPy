{
 "cells": [
  {
   "cell_type": "code",
   "execution_count": 6,
   "metadata": {},
   "outputs": [
    {
     "name": "stdout",
     "output_type": "stream",
     "text": [
      "Go to directory: /Users/yunjunz/insarlab/PYSAR_EXAMPLE/SierraNegraAlosAT133/PYSAR\n",
      "view.py avgPhaseVelocity.h5 -m maskSpatialCoh.h5 --fontsize 12 --figsize 4 3 --notitle --dpi 600 --nodisplay --cbar-label \"Velocity [cm/yr]\" -o SierraNegraAlosAT133_avgPhaseVel.jpg\n"
     ]
    },
    {
     "data": {
      "text/plain": [
       "0"
      ]
     },
     "execution_count": 6,
     "metadata": {},
     "output_type": "execute_result"
    }
   ],
   "source": [
    "import os\n",
    "from pysar.objects import sensor\n",
    "\n",
    "work_dir = '~/insarlab/PYSAR_EXAMPLE/AlcedoSenDT128/PYSAR'\n",
    "work_dir = '~/insarlab/PYSAR_EXAMPLE/SierraNegraAlosAT133/PYSAR'\n",
    "\n",
    "work_dir = os.path.expanduser(work_dir)\n",
    "os.chdir(work_dir)\n",
    "print('Go to directory: '+work_dir)\n",
    "\n",
    "proj_name = sensor.project_name2sensor_name(work_dir)[1]\n",
    "\n",
    "plotCmd = 'view.py avgPhaseVelocity.h5 -m maskSpatialCoh.h5 '\n",
    "plotCmd += '--fontsize 12 --figsize 4 3 --notitle --dpi 600 --nodisplay --cbar-label \"Velocity [cm/yr]\" '\n",
    "plotCmd += '-o {}_avgPhaseVel.jpg'.format(proj_name)\n",
    "print(plotCmd)\n",
    "os.system(plotCmd)\n"
   ]
  },
  {
   "cell_type": "code",
   "execution_count": null,
   "metadata": {
    "collapsed": true
   },
   "outputs": [],
   "source": []
  }
 ],
 "metadata": {
  "kernelspec": {
   "display_name": "Python 3",
   "language": "python",
   "name": "python3"
  },
  "language_info": {
   "codemirror_mode": {
    "name": "ipython",
    "version": 3
   },
   "file_extension": ".py",
   "mimetype": "text/x-python",
   "name": "python",
   "nbconvert_exporter": "python",
   "pygments_lexer": "ipython3",
   "version": "3.6.4"
  }
 },
 "nbformat": 4,
 "nbformat_minor": 2
}
