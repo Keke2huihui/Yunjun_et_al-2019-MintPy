{
 "cells": [
  {
   "cell_type": "code",
   "execution_count": 1,
   "metadata": {},
   "outputs": [
    {
     "name": "stderr",
     "output_type": "stream",
     "text": [
      "/Users/yunjunz/development/python/anaconda3/lib/python3.6/site-packages/h5py/__init__.py:36: FutureWarning: Conversion of the second argument of issubdtype from `float` to `np.floating` is deprecated. In future, it will be treated as `np.float64 == np.dtype(float).type`.\n",
      "  from ._conv import register_converters as _register_converters\n"
     ]
    },
    {
     "name": "stdout",
     "output_type": "stream",
     "text": [
      "Go to directory: /Users/yunjunz/insarlab/PYSAR_EXAMPLE/SierraNegraAlosAT133/PYSAR\n",
      "view.py avgPhaseVelocity.h5 -m maskSpatialCoh.h5  -d ./INPUTS/geometryRadar.h5 --dem-nocontour  --fontsize 12 --figsize 4 3 --notitle --dpi 600 --nodisplay --cbar-label \"Velocity [cm/yr]\"  -o SierraNegraAlosAT133_avgPhaseVel.jpg --notick\n"
     ]
    },
    {
     "data": {
      "text/plain": [
       "0"
      ]
     },
     "execution_count": 1,
     "metadata": {},
     "output_type": "execute_result"
    }
   ],
   "source": [
    "import os\n",
    "import numpy as np\n",
    "import matplotlib.pyplot as plt\n",
    "from mpl_toolkits.axes_grid1 import make_axes_locatable\n",
    "from pysar.objects import sensor\n",
    "from pysar.utils import readfile, plot as pp\n",
    "\n",
    "work_dir = '~/insarlab/PYSAR_EXAMPLE/AlcedoSenDT128/PYSAR'\n",
    "work_dir = '~/insarlab/PYSAR_EXAMPLE/SierraNegraAlosAT133/PYSAR'\n",
    "work_dir = os.path.expanduser(work_dir)\n",
    "os.chdir(work_dir)\n",
    "print('Go to directory: '+work_dir)\n",
    "proj_name = sensor.project_name2sensor_name(work_dir)[1]\n",
    "\n",
    "# Option 1 - plot with view.py from PySAR\n",
    "plotCmd = 'view.py avgPhaseVelocity.h5 -m maskSpatialCoh.h5 '\n",
    "plotCmd += ' -d ./INPUTS/geometryRadar.h5 --dem-nocontour '\n",
    "plotCmd += ' --fontsize 12 --figsize 4 3 --notitle --dpi 600 --nodisplay --cbar-label \"Velocity [cm/yr]\" '\n",
    "plotCmd += ' -o {}_avgPhaseVel.jpg --notick'.format(proj_name)\n",
    "print(plotCmd)\n",
    "os.system(plotCmd)\n",
    "\n",
    "# Option 2 - plot with matplotlib\n",
    "#data, atr = readfile.read('avgPhaseVelocity.h5')\n",
    "#mask = readfile.read('maskSpatialCoh.h5')[0]\n",
    "#data[mask==0] = np.nan\n",
    "#\n",
    "#fig, ax = plt.subplots(figsize=[4, 3])\n",
    "#im = ax.imshow(data, cmap='jet')\n",
    "#pp.auto_flip_direction(atr, ax=ax, print_msg=False)\n",
    "#ax.get_xaxis().set_ticks([])\n",
    "#ax.get_yaxis().set_ticks([])\n",
    "#\n",
    "## colorbar\n",
    "#divider = make_axes_locatable(ax)\n",
    "#cax = divider.append_axes(\"right\", \"3%\", pad=\"3%\")\n",
    "#cbar = plt.colorbar(im, cax=cax)\n",
    "#plt.show()"
   ]
  },
  {
   "cell_type": "code",
   "execution_count": null,
   "metadata": {
    "collapsed": true
   },
   "outputs": [],
   "source": []
  }
 ],
 "metadata": {
  "kernelspec": {
   "display_name": "Python 3",
   "language": "python",
   "name": "python3"
  },
  "language_info": {
   "codemirror_mode": {
    "name": "ipython",
    "version": 3
   },
   "file_extension": ".py",
   "mimetype": "text/x-python",
   "name": "python",
   "nbconvert_exporter": "python",
   "pygments_lexer": "ipython3",
   "version": "3.6.4"
  }
 },
 "nbformat": 4,
 "nbformat_minor": 2
}
