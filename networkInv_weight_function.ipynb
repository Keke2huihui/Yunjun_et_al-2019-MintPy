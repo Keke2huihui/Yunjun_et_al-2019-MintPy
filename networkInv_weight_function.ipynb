{
 "cells": [
  {
   "cell_type": "code",
   "execution_count": 2,
   "metadata": {},
   "outputs": [
    {
     "name": "stdout",
     "output_type": "stream",
     "text": [
      "Go to directory: /Users/yunjunz/development/python/2018_ComputGeosci_PySAR\n"
     ]
    }
   ],
   "source": [
    "##Figure Setting\n",
    "font_name = 'Helvetica'\n",
    "font_size = 12\n",
    "fig_dpi = 600\n",
    "\n",
    "#AGU recommend .eps for vector, .tiff for raster and .jpg for large raster\n",
    "#Google Doc support .jpg, .png and .gif only\n",
    "fig_ext = '.jpg'\n",
    "\n",
    "import os\n",
    "import numpy as np\n",
    "import matplotlib.pyplot as plt\n",
    "import matplotlib.lines as mlines\n",
    "\n",
    "from pysar.utils import ptime, readfile, writefile\n",
    "from pysar import ifgram_inversion as pinv, view as pp\n",
    "\n",
    "\n",
    "work_dir = '/Users/yunjunz/development/python/2018_ComputGeosci_PySAR'\n",
    "os.chdir(work_dir)\n",
    "print('Go to directory: '+work_dir)"
   ]
  },
  {
   "cell_type": "code",
   "execution_count": 22,
   "metadata": {},
   "outputs": [
    {
     "name": "stdout",
     "output_type": "stream",
     "text": [
      "Done.\n"
     ]
    }
   ],
   "source": [
    "### Calculate Coherence and Weights\n",
    "epsilon = 1e-2\n",
    "c0 = np.linspace(0., 1.0, 1000)\n",
    "c = np.array(c0)\n",
    "c[c < epsilon] = epsilon\n",
    "c[c > 1.-epsilon] = 1-epsilon\n",
    "\n",
    "## 1. Uniform weight - Berardino et al., 2002, IEEE-TGRS\n",
    "w_uniform = np.linspace(1., 1.,len(c))\n",
    "w_uniform /= np.max(w_uniform)\n",
    "\n",
    "## 2. Linear - (Perissin and Wang, 2012, IEEE-TGRS; Tong et al., 2016, RSE)\n",
    "w_coh = np.array(c)\n",
    "w_coh[w_coh < epsilon] = epsilon\n",
    "w_coh /= np.max(w_coh)\n",
    "\n",
    "## 3. Variance\n",
    "L = 75\n",
    "w_var = 1.0 / pinv.coherence2phase_variance_ds(c, L)\n",
    "w_var /= np.max(w_var)\n",
    "\n",
    "## 4. Fisher info matrix\n",
    "w_fim = pinv.coherence2fisher_info_index(c, L)\n",
    "w_fim /= np.max(w_fim)\n",
    "print('Done.')"
   ]
  },
  {
   "cell_type": "code",
   "execution_count": 23,
   "metadata": {},
   "outputs": [
    {
     "data": {
      "image/png": "[encoded data removed]",
      "text/plain": [
       "<Figure size 288x216 with 1 Axes>"
      ]
     },
     "metadata": {},
     "output_type": "display_data"
    }
   ],
   "source": [
    "## Weighting functions\n",
    "fig = plt.figure(figsize=[4, 3])\n",
    "ax = fig.add_axes([0.1,0.1,0.8,0.8])\n",
    "\n",
    "ax.plot(c0, w_uniform, ':', label='Uniform')\n",
    "ax.plot(c0, w_coh, '--', label='Coherence')\n",
    "ax.plot(c0, w_var, '-.', label='Variance inv')\n",
    "ax.plot(c0, w_fim,'-', label='Fisher info')\n",
    "\n",
    "ax.set_yscale('log');   ax.set_ylim(ymin=1e-6)\n",
    "#ax.set_xscale('log')\n",
    "ax.tick_params(labelsize=font_size)\n",
    "ax.set_xlabel('Coherence', fontsize=font_size)\n",
    "ax.set_ylabel('Normalized Weight', fontSize=font_size)\n",
    "\n",
    "plt.legend(fontsize=font_size, frameon=False, ncol=1)\n",
    "ax.text( 0.20, 1.0e-2, 'L=%s'%(L), fontsize=font_size)\n",
    "ax.set_xlim([0., 1.])\n",
    "\n",
    "#plt.legend(loc=(0.02,0.08), fontsize=font_size)\n",
    "#ax.text( 0.60, 1.0e-1, 'Uniform', color=pp.mplColors[0], fontsize=font_size)\n",
    "#ax.text( 0.20, 1.5e-3, 'Coherence', color=pp.mplColors[1], fontsize=font_size)\n",
    "#ax.text( 0.20, 0.5e-6, , color=pp.mplColors[2], fontsize=font_size)\n",
    "#ax.text( 0.20, 1.0e-8, , color=pp.mplColors[3], fontsize=font_size)\n",
    "\n",
    "plt.savefig('./PIC/weight_function'+fig_ext, bbox_inches='tight', dpi=fig_dpi)\n",
    "plt.show()\n"
   ]
  },
  {
   "cell_type": "code",
   "execution_count": null,
   "metadata": {
    "collapsed": true
   },
   "outputs": [],
   "source": []
  }
 ],
 "metadata": {
  "kernelspec": {
   "display_name": "Python 3",
   "language": "python",
   "name": "python3"
  },
  "language_info": {
   "codemirror_mode": {
    "name": "ipython",
    "version": 3
   },
   "file_extension": ".py",
   "mimetype": "text/x-python",
   "name": "python",
   "nbconvert_exporter": "python",
   "pygments_lexer": "ipython3",
   "version": "3.6.4"
  }
 },
 "nbformat": 4,
 "nbformat_minor": 2
}
