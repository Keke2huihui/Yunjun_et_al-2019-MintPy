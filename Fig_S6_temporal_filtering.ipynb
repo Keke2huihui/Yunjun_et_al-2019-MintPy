{
 "cells": [
  {
   "cell_type": "code",
   "execution_count": 3,
   "metadata": {},
   "outputs": [
    {
     "name": "stdout",
     "output_type": "stream",
     "text": [
      "Go to directory: /Users/yunjunz/insarlab/Galapagos/GalapagosSenDT128/PYSAR\n"
     ]
    }
   ],
   "source": [
    "## Figure S6 - Temporal filetering effect on Displacement time-series on Cerro Azul with Sentinel-1 data\n",
    "\n",
    "import os\n",
    "import h5py\n",
    "import numpy as np\n",
    "from matplotlib import colors, pyplot as plt, ticker\n",
    "from pysar.objects import sensor\n",
    "from pysar.utils import readfile, plot as pp, utils as ut\n",
    "from pysar.simulation.plot import *\n",
    "from pysar import view\n",
    "\n",
    "work_dir = os.path.expanduser('~/insarlab/Galapagos/GalapagosSenDT128/PYSAR')\n",
    "os.chdir(work_dir)\n",
    "print('Go to directory:', work_dir)\n",
    "proj_name = sensor.project_name2sensor_name(work_dir)[1]\n",
    "\n",
    "geom_file = 'INPUTS/geometryRadar.h5'\n",
    "ts_files = ['timeseries_ECMWF_demErr_ramp.h5',\n",
    "            'timeseries_ECMWF_demErr_ramp_tempGaussian.h5']\n",
    "atr = readfile.read_attribute(ts_files[0])"
   ]
  },
  {
   "cell_type": "code",
   "execution_count": 2,
   "metadata": {},
   "outputs": [
    {
     "name": "stdout",
     "output_type": "stream",
     "text": [
      "temporal_filter.py timeseries_ECMWF_demErr_ramp.h5 -t 0.1\n"
     ]
    },
    {
     "data": {
      "text/plain": [
       "0"
      ]
     },
     "execution_count": 2,
     "metadata": {},
     "output_type": "execute_result"
    }
   ],
   "source": [
    "## run temporal_filter.py\n",
    "cmd = 'temporal_filter.py {} -t 0.1'.format(ts_files[0])\n",
    "print(cmd)\n",
    "os.system(cmd)"
   ]
  },
  {
   "cell_type": "code",
   "execution_count": 5,
   "metadata": {},
   "outputs": [
    {
     "name": "stdout",
     "output_type": "stream",
     "text": [
      "tsview.py timeseries_ECMWF_demErr_ramp_tempGaussian.h5 timeseries_ECMWF_demErr_ramp.h5 --label \"low pass Gaussian\" original --wrap --wrap-range -5 5 --ylim -30 10 --lalo -0.9251 -91.3764  --figsize 5 3 --save \n",
      "Run the command in terminal\n"
     ]
    }
   ],
   "source": [
    "## plot Figure S6\n",
    "lat, lon = -0.9251, -91.3764\n",
    "box = (400, 1400, 1180, 1950)\n",
    "\n",
    "cmd = 'tsview.py {} {} --label \"low pass Gaussian\" original '.format(ts_files[1], ts_files[0])\n",
    "cmd += '--wrap --wrap-range -5 5 --ylim -30 10 '\n",
    "cmd += '--lalo {} {}  --figsize 5 3 --save '.format(lat, lon)\n",
    "print(cmd)\n",
    "print('Run the command in terminal')"
   ]
  },
  {
   "cell_type": "code",
   "execution_count": null,
   "metadata": {
    "collapsed": true
   },
   "outputs": [],
   "source": []
  }
 ],
 "metadata": {
  "kernelspec": {
   "display_name": "Python 3",
   "language": "python",
   "name": "python3"
  },
  "language_info": {
   "codemirror_mode": {
    "name": "ipython",
    "version": 3
   },
   "file_extension": ".py",
   "mimetype": "text/x-python",
   "name": "python",
   "nbconvert_exporter": "python",
   "pygments_lexer": "ipython3",
   "version": "3.6.5"
  }
 },
 "nbformat": 4,
 "nbformat_minor": 2
}
