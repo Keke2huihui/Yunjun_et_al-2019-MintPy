{
 "cells": [
  {
   "cell_type": "code",
   "execution_count": 12,
   "metadata": {},
   "outputs": [
    {
     "name": "stdout",
     "output_type": "stream",
     "text": [
      "Go to directory: /Users/yunjunz/insarlab/Galapagos\n",
      "finished writing to sar_info.txt\n"
     ]
    }
   ],
   "source": [
    "# write SAR image basic info into text file\n",
    "import os\n",
    "import datetime as dt\n",
    "import numpy as np\n",
    "from pysar.objects import timeseries\n",
    "\n",
    "\n",
    "work_dir = '/Users/yunjunz/insarlab/Galapagos'\n",
    "os.chdir(work_dir)\n",
    "print('Go to directory: {}'.format(work_dir))\n",
    "\n",
    "txt_file = 'sar_info.txt'\n",
    "f = open(txt_file, 'w')\n",
    "\n",
    "dirs = ['GalapagosEnvA2T061', 'GalapagosSenDT128', 'GalapagosAlosAT133']\n",
    "sensors = ['Env', 'Sen', 'Alos']\n",
    "pass_dirs = ['Ascending', 'Descending', 'Ascending']\n",
    "tracks = ['061', '128', '133']\n",
    "for diri, sensor, pass_diri, track in zip(dirs, sensors, pass_dirs, tracks):\n",
    "    os.chdir(os.path.join(work_dir, diri, 'PYSAR'))\n",
    "    ts_obj = timeseries('timeseries.h5')\n",
    "    ts_obj.open(print_msg=False)\n",
    "    for date, pbase in zip(ts_obj.dateList, ts_obj.pbase):\n",
    "        line ='{}\\t\\t{}\\t\\t{}\\t\\t{}\\t\\t{:.1f}'.format(sensor,\n",
    "                                                      pass_diri,\n",
    "                                                      track,\n",
    "                                                      dt.datetime.strptime(date, '%Y%m%d').isoformat()[0:10],\n",
    "                                                      pbase)\n",
    "        f.write(line+'\\n')\n",
    "f.close()\n",
    "print('finished writing to '+txt_file)"
   ]
  },
  {
   "cell_type": "code",
   "execution_count": null,
   "metadata": {
    "collapsed": true
   },
   "outputs": [],
   "source": []
  }
 ],
 "metadata": {
  "kernelspec": {
   "display_name": "Python 3",
   "language": "python",
   "name": "python3"
  },
  "language_info": {
   "codemirror_mode": {
    "name": "ipython",
    "version": 3
   },
   "file_extension": ".py",
   "mimetype": "text/x-python",
   "name": "python",
   "nbconvert_exporter": "python",
   "pygments_lexer": "ipython3",
   "version": "3.6.4"
  }
 },
 "nbformat": 4,
 "nbformat_minor": 2
}
