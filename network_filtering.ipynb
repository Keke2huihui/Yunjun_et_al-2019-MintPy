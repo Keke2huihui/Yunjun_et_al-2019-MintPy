{
 "cells": [
  {
   "cell_type": "code",
   "execution_count": 14,
   "metadata": {},
   "outputs": [
    {
     "name": "stdout",
     "output_type": "stream",
     "text": [
      "Go to diretory: /Users/yunjunz/insarlab/PYSAR_EXAMPLE/AlcedoSenDT128/PYSAR/NET_FILTER\n",
      "view.py ./../INPUTS/ifgramStack.h5 coherence-20170320_20170519 -o coh_20170320_20170519_orig.png --nodisplay\n",
      "view.py ./../INPUTS/ifgramStack.h5 unwrapPhase-20170320_20170519 -o 20170320_20170519_orig.png -m maskTempCoh.h5 --wrap --nodisplay\n",
      "view.py timeseries.h5 20170519 --ref-date 20170320 -o 20170320_20170519_recon.png -m maskTempCoh.h5 --wrap --nodisplay\n"
     ]
    },
    {
     "data": {
      "text/plain": [
       "0"
      ]
     },
     "execution_count": 14,
     "metadata": {},
     "output_type": "execute_result"
    }
   ],
   "source": [
    "\n",
    "import os\n",
    "import matplotlib.pyplot as plt\n",
    "import pysar.plot_network as pnet\n",
    "from pysar.simulation.plot import *\n",
    "from pysar.objects import sensor\n",
    "from pysar.utils import readfile, plot as pp\n",
    "\n",
    "date12 = '20170320_20170519'\n",
    "#date12 = '20150307_20150506'\n",
    "\n",
    "work_dir = '~/insarlab/PYSAR_EXAMPLE/AlcedoSenDT128/PYSAR/NET_FILTER'\n",
    "work_dir = os.path.expanduser(work_dir)\n",
    "os.chdir(work_dir)\n",
    "print('Go to diretory: '+work_dir)\n",
    "\n",
    "\n",
    "m_date, s_date = date12.split('_')\n",
    "\n",
    "opt = '-m maskTempCoh.h5 --wrap --nodisplay'\n",
    "cmd = 'view.py ./../INPUTS/ifgramStack.h5 coherence-{d} -o coh_{d}_orig.png --nodisplay\\n'.format(d=date12)\n",
    "cmd += 'view.py ./../INPUTS/ifgramStack.h5 unwrapPhase-{d} -o {d}_orig.png {o}\\n'.format(d=date12, o=opt)\n",
    "cmd += 'view.py timeseries.h5 {s} --ref-date {m} -o {d}_recon.png {o}'.format(m=m_date, s=s_date, d=date12, o=opt)\n",
    "print(cmd)\n",
    "os.system(cmd)"
   ]
  },
  {
   "cell_type": "code",
   "execution_count": null,
   "metadata": {
    "collapsed": true
   },
   "outputs": [],
   "source": []
  }
 ],
 "metadata": {
  "kernelspec": {
   "display_name": "Python 3",
   "language": "python",
   "name": "python3"
  },
  "language_info": {
   "codemirror_mode": {
    "name": "ipython",
    "version": 3
   },
   "file_extension": ".py",
   "mimetype": "text/x-python",
   "name": "python",
   "nbconvert_exporter": "python",
   "pygments_lexer": "ipython3",
   "version": "3.6.4"
  }
 },
 "nbformat": 4,
 "nbformat_minor": 2
}
