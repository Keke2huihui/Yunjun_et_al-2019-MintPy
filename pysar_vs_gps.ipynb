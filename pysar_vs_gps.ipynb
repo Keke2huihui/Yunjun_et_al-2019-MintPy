{
 "cells": [
  {
   "cell_type": "code",
   "execution_count": 5,
   "metadata": {},
   "outputs": [
    {
     "name": "stdout",
     "output_type": "stream",
     "text": [
      "Go to directory: /Users/yunjunz/development/python/2018_ComputGeosci_PySAR/pysar_vs_gps\n",
      "reading incidenceAngle data from file: /Users/yunjunz/insarlab/Galapagos/GalapagosAlosAT133/PYSAR/GEOCODE/geo_geometryRadar.h5 ...\n"
     ]
    }
   ],
   "source": [
    "import os\n",
    "import sys\n",
    "import time\n",
    "from datetime import datetime as dt\n",
    "import numpy as np\n",
    "from matplotlib import pyplot as plt, ticker\n",
    "from pysar.simulation.plot import *\n",
    "from pysar.objects import timeseries, ifgramStack, sensor, gps\n",
    "from pysar.utils import readfile, ptime, plot as pp, writefile, utils as ut\n",
    "\n",
    "work_dir = '/Users/yunjunz/development/python/2018_ComputGeosci_PySAR/pysar_vs_gps'\n",
    "os.chdir(work_dir)\n",
    "print('Go to directory: '+work_dir)\n",
    "\n",
    "site_r = 'GV01'\n",
    "\n",
    "gps_dir = '/Users/yunjunz/insarlab/Galapagos/GPS'\n",
    "pysar_dir = '/Users/yunjunz/insarlab/Galapagos/GalapagosSenDT128/PYSAR/GEOCODE'\n",
    "pysar_dir = '/Users/yunjunz/insarlab/PYSAR_EXAMPLE/SierraNegraSenDT128/PYSAR/GEOCODE'\n",
    "\n",
    "pysar_dir = '/Users/yunjunz/insarlab/Galapagos/GalapagosAlosAT133/PYSAR/GEOCODE'\n",
    "head_angle = -12.873\n",
    "head_ang = head_angle\n",
    "ylim = None\n",
    "\n",
    "ts_file = os.path.join(pysar_dir, 'geo_timeseries_ECMWF_demErr_refDate_plane.h5')\n",
    "ts_obj = timeseries(ts_file)\n",
    "ts_obj.open(print_msg=False)\n",
    "atr = ts_obj.metadata\n",
    "\n",
    "geom_file = os.path.join(pysar_dir, 'geo_geometryRadar.h5')\n",
    "inc_angle = readfile.read(geom_file, datasetName='incidenceAngle')[0]\n",
    "try:\n",
    "    head_angle = readfile.read(geom_file, datasetName='headingAngle')[0]\n",
    "except:\n",
    "    head_angle = -12.873\n",
    "    head_ang = head_angle\n",
    "\n",
    "def read_timeseries(site, site_r=None):\n",
    "    global inc_ang, head_ang, gps_obj, ts_obj\n",
    "    ## Read GPS\n",
    "    gps_obj = gps(site=site, data_dir=gps_dir)\n",
    "    gps_obj.open(print_msg=False)\n",
    "    \n",
    "    y = ut.coord_geo2radar(gps_obj.site_lat, atr, 'lat')\n",
    "    x = ut.coord_geo2radar(gps_obj.site_lon, atr, 'lon')\n",
    "    inc_ang = inc_angle[y, x]\n",
    "    if isinstance(head_ang, np.ndarray):\n",
    "        head_ang = -1 * (180 + head_angle[y, x] + 90)\n",
    "    print('lat={:.4f}, lon={:.4f}'.format(gps_obj.site_lat, gps_obj.site_lon))\n",
    "    print('heading angle: {}'.format(head_ang))\n",
    "    print('incidence angle: {}'.format(inc_ang))\n",
    "\n",
    "    gps_times = gps_obj.times\n",
    "    gps_dis = ut.enu2los(gps_obj.dis_e, gps_obj.dis_n, gps_obj.dis_u, heading_angle=head_ang, inc_angle=inc_ang)\n",
    "\n",
    "    if site_r:\n",
    "        gps_r_obj = gps(site=site_r, data_dir=gps_dir)\n",
    "        gps_r_obj.open(print_msg=False)\n",
    "        \n",
    "        gps_times = sorted(list(set(gps_obj.times) & set(gps_r_obj.times)))\n",
    "        dis_e = np.zeros(len(gps_times), np.float32)\n",
    "        dis_n = np.zeros(dis_e.shape, np.float32)\n",
    "        dis_u = np.zeros(dis_e.shape, np.float32)\n",
    "        for i in range(len(gps_times)):\n",
    "            idx1 = gps_obj.times.index(gps_times[i])\n",
    "            idx2 = gps_r_obj.times.index(gps_times[i])\n",
    "            dis_e[i] = gps_obj.dis_e[idx1] - gps_r_obj.dis_e[idx2]\n",
    "            dis_n[i] = gps_obj.dis_n[idx1] - gps_r_obj.dis_n[idx2]\n",
    "            dis_u[i] = gps_obj.dis_u[idx1] - gps_r_obj.dis_u[idx2]\n",
    "        gps_dis = ut.enu2los(dis_e, dis_n, dis_u)\n",
    "\n",
    "    ## Read InSAR\n",
    "    box = (x, y, x+1, y+1)\n",
    "\n",
    "    pysar_dis = ts_obj.read(box=box, print_msg=False)\n",
    "    pysar_times = ts_obj.times\n",
    "\n",
    "    if site_r:\n",
    "        y_r = ut.coord_geo2radar(gps_r_obj.site_lat, atr, 'lat')\n",
    "        x_r = ut.coord_geo2radar(gps_r_obj.site_lon, atr, 'lon')\n",
    "        box_r = (x_r, y_r, x_r+1, y_r+1)\n",
    "        pysar_dis -= ts_obj.read(box=box_r, print_msg=False)\n",
    "    return gps_times, gps_dis, pysar_times, pysar_dis\n",
    "\n",
    "## Plot\n",
    "def plot_timeseries(site, gps_times, gps_dis, pysar_times, pysar_dis, site_r=None,\n",
    "                    disp_fig=True, ylim=(-0.2, 1.5)):\n",
    "    title = 'Site={}'.format(site)\n",
    "    if site_r:\n",
    "          title += ', Ref Site={}'.format(site_r)\n",
    "    comm_idx = 2\n",
    "    while comm_idx < len(pysar_times):\n",
    "        if pysar_times[comm_idx] not in gps_times:\n",
    "            comm_idx += 1\n",
    "        else:\n",
    "            break\n",
    "    if comm_idx == len(pysar_times):\n",
    "        raise RuntimeError('InSAR and GPS do not share ANY date.')\n",
    "\n",
    "    comm_date = pysar_times[comm_idx]\n",
    "    print('Common date: {}'.format(comm_date))\n",
    "    pysar_dis -= pysar_dis[comm_idx]\n",
    "    gps_dis -= gps_dis[gps_times.index(comm_date)]\n",
    "\n",
    "    fig, ax = plt.subplots(figsize=(5, 3))\n",
    "    ax.scatter(gps_times, gps_dis, s=0.5**2, label='GPS')\n",
    "    ax.scatter(pysar_times, pysar_dis, s=8**2, facecolors='none', edgecolors=pp.mplColors[1], label='InSAR')\n",
    "    ax = pp.auto_adjust_xaxis_date(ax, ts_obj.yearList)[0]\n",
    "    ax.set_ylim(ylim)\n",
    "    ax.set_xlabel('Time (year)', fontsize=font_size)\n",
    "    ax.set_ylabel('LOS displacement (m)', fontsize=font_size)\n",
    "    ax.set_title(title, fontsize=font_size)\n",
    "    ax.tick_params(which='both', direction='in', labelsize=font_size,\n",
    "                   bottom=True, top=True, left=True, right=True)\n",
    "    ax.tick_params(labelsize=font_size, )\n",
    "    ax.legend(loc='upper left')\n",
    "\n",
    "    out_file = '{}'.format(site)\n",
    "    if site_r:\n",
    "        out_file += '-{}'.format(site_r)\n",
    "    plt.savefig(out_file+'.jpg', bbox_inches='tight', transparent=True, dpi=fig_dpi)\n",
    "    if disp_fig:\n",
    "        plt.show()"
   ]
  },
  {
   "cell_type": "code",
   "execution_count": 6,
   "metadata": {},
   "outputs": [
    {
     "name": "stdout",
     "output_type": "stream",
     "text": [
      "calculating station lat/lon\n",
      "reading time and displacement in east/north/vertical direction\n",
      "lat=-0.7978, lon=-91.1329\n",
      "heading angle: -12.873\n",
      "incidence angle: 38.718563079833984\n",
      "calculating station lat/lon\n",
      "reading time and displacement in east/north/vertical direction\n",
      "Common date: 2010-06-10 00:00:00\n",
      "calculating station lat/lon\n",
      "reading time and displacement in east/north/vertical direction\n",
      "lat=-0.8115, lon=-91.1381\n",
      "heading angle: -12.873\n",
      "incidence angle: 38.66645050048828\n",
      "calculating station lat/lon\n",
      "reading time and displacement in east/north/vertical direction\n",
      "Common date: 2010-06-10 00:00:00\n",
      "calculating station lat/lon\n",
      "reading time and displacement in east/north/vertical direction\n",
      "lat=-0.8049, lon=-91.1212\n",
      "heading angle: -12.873\n",
      "incidence angle: 38.78563690185547\n",
      "calculating station lat/lon\n",
      "reading time and displacement in east/north/vertical direction\n",
      "Common date: 2010-06-10 00:00:00\n",
      "calculating station lat/lon\n",
      "reading time and displacement in east/north/vertical direction\n",
      "lat=-0.8343, lon=-91.1281\n",
      "heading angle: -12.873\n",
      "incidence angle: 38.704288482666016\n",
      "calculating station lat/lon\n",
      "reading time and displacement in east/north/vertical direction\n",
      "Common date: 2011-01-26 00:00:00\n",
      "calculating station lat/lon\n",
      "reading time and displacement in east/north/vertical direction\n",
      "lat=-0.8405, lon=-91.1526\n",
      "heading angle: -12.873\n",
      "incidence angle: 38.53584289550781\n",
      "calculating station lat/lon\n",
      "reading time and displacement in east/north/vertical direction\n",
      "Common date: 2007-07-18 00:00:00\n",
      "calculating station lat/lon\n",
      "reading time and displacement in east/north/vertical direction\n",
      "lat=-0.8420, lon=-91.1344\n",
      "heading angle: -12.873\n",
      "incidence angle: 38.6506462097168\n",
      "calculating station lat/lon\n",
      "reading time and displacement in east/north/vertical direction\n",
      "Common date: 2007-07-18 00:00:00\n",
      "calculating station lat/lon\n",
      "reading time and displacement in east/north/vertical direction\n",
      "lat=-0.8373, lon=-91.1474\n",
      "heading angle: -12.873\n",
      "incidence angle: 38.571048736572266\n",
      "calculating station lat/lon\n",
      "reading time and displacement in east/north/vertical direction\n",
      "Common date: 2009-01-20 00:00:00\n",
      "calculating station lat/lon\n",
      "reading time and displacement in east/north/vertical direction\n",
      "lat=-0.8493, lon=-91.1510\n",
      "heading angle: -12.873\n",
      "incidence angle: 38.534793853759766\n",
      "calculating station lat/lon\n",
      "reading time and displacement in east/north/vertical direction\n",
      "Common date: 2009-01-20 00:00:00\n"
     ]
    }
   ],
   "source": [
    "gps_sites = ['GV03', 'GV04', 'GV05', 'GV06', 'GV07', 'GV08', 'GV09', 'GV10']\n",
    "\n",
    "for site in gps_sites:\n",
    "    gps_times, gps_dis, pysar_times, pysar_dis = read_timeseries(site=site, site_r=site_r)\n",
    "    plot_timeseries(site, gps_times, gps_dis, pysar_times, pysar_dis, site_r=site_r,\n",
    "                    disp_fig=False, ylim=ylim)\n"
   ]
  },
  {
   "cell_type": "code",
   "execution_count": 54,
   "metadata": {},
   "outputs": [
    {
     "name": "stdout",
     "output_type": "stream",
     "text": [
      "Common date: 2015-03-07 00:00:00\n"
     ]
    },
    {
     "data": {
      "image/png": "[encoded data removed]",
      "text/plain": [
       "<Figure size 360x216 with 1 Axes>"
      ]
     },
     "metadata": {},
     "output_type": "display_data"
    }
   ],
   "source": []
  },
  {
   "cell_type": "code",
   "execution_count": 17,
   "metadata": {},
   "outputs": [
    {
     "data": {
      "text/plain": [
       "0.9816271834476641"
      ]
     },
     "execution_count": 17,
     "metadata": {},
     "output_type": "execute_result"
    }
   ],
   "source": [
    "np.cos(-371 / 180. * np.pi)"
   ]
  },
  {
   "cell_type": "code",
   "execution_count": 18,
   "metadata": {},
   "outputs": [
    {
     "data": {
      "text/plain": [
       "0.981627183447664"
      ]
     },
     "execution_count": 18,
     "metadata": {},
     "output_type": "execute_result"
    }
   ],
   "source": [
    "np.cos(-11 / 180. * np.pi)"
   ]
  },
  {
   "cell_type": "code",
   "execution_count": null,
   "metadata": {
    "collapsed": true
   },
   "outputs": [],
   "source": []
  }
 ],
 "metadata": {
  "kernelspec": {
   "display_name": "Python 3",
   "language": "python",
   "name": "python3"
  },
  "language_info": {
   "codemirror_mode": {
    "name": "ipython",
    "version": 3
   },
   "file_extension": ".py",
   "mimetype": "text/x-python",
   "name": "python",
   "nbconvert_exporter": "python",
   "pygments_lexer": "ipython3",
   "version": "3.6.4"
  }
 },
 "nbformat": 4,
 "nbformat_minor": 2
}
