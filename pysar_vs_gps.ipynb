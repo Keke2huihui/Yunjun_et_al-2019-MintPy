{
 "cells": [
  {
   "cell_type": "code",
   "execution_count": 34,
   "metadata": {},
   "outputs": [
    {
     "name": "stdout",
     "output_type": "stream",
     "text": [
      "Go to directory: /Users/yunjunz/development/python/2018_ComputGeosci_PySAR/pysar_vs_gps\n"
     ]
    }
   ],
   "source": [
    "import os\n",
    "import sys\n",
    "import time\n",
    "from datetime import datetime as dt\n",
    "import numpy as np\n",
    "from matplotlib import pyplot as plt, ticker\n",
    "from pysar.simulation.plot import *\n",
    "from pysar.objects import timeseries, ifgramStack, sensor, gps\n",
    "from pysar.utils import readfile, ptime, plot as pp, writefile, utils as ut\n",
    "\n",
    "work_dir = '/Users/yunjunz/development/python/2018_ComputGeosci_PySAR/pysar_vs_gps'\n",
    "os.chdir(work_dir)\n",
    "print('Go to directory: '+work_dir)\n",
    "\n",
    "site = 'GV02'\n",
    "\n",
    "gps_dir = '/Users/yunjunz/insarlab/Galapagos/GPS'\n",
    "pysar_dir = '/Users/yunjunz/insarlab/Galapagos/GalapagosSenDT128/PYSAR/GEOCODE'\n",
    "ts_file = os.path.join(pysar_dir, 'geo_timeseries_ECMWF_demErr_refDate_plane.h5')"
   ]
  },
  {
   "cell_type": "code",
   "execution_count": 35,
   "metadata": {},
   "outputs": [
    {
     "name": "stdout",
     "output_type": "stream",
     "text": [
      "downloading GV02 from http://geodesy.unr.edu/gps_timeseries/tenv3/IGS08/GV02.IGS08.tenv3\n",
      "calculating station lat/lon\n",
      "reading time and displacement in east/north/vertical direction\n",
      "open timeseries file: geo_timeseries_ECMWF_demErr_refDate_plane.h5\n",
      "reading timeseries data from file: /Users/yunjunz/insarlab/Galapagos/GalapagosSenDT128/PYSAR/GEOCODE/geo_timeseries_ECMWF_demErr_refDate_plane.h5 ...\n"
     ]
    }
   ],
   "source": [
    "## Read GPS\n",
    "gps_obj = gps(site=site, data_dir=gps_dir)\n",
    "gps_obj.open()\n",
    "\n",
    "gps_dis = ut.enu2los(gps_obj.dis_e, gps_obj.dis_n, gps_obj.dis_u)\n",
    "gps_times = gps_obj.times\n",
    "\n",
    "## Read InSAR\n",
    "atr = readfile.read_attribute(ts_file)\n",
    "y = ut.coord_geo2radar(gps_obj.site_lat, atr, 'lat')\n",
    "x = ut.coord_geo2radar(gps_obj.site_lon, atr, 'lon')\n",
    "box = (x, y, x+1, y+1)\n",
    "\n",
    "ts_obj = timeseries(ts_file)\n",
    "ts_obj.open()\n",
    "pysar_dis = ts_obj.read(box=box)\n",
    "pysar_times = ts_obj.times"
   ]
  },
  {
   "cell_type": "code",
   "execution_count": 39,
   "metadata": {},
   "outputs": [
    {
     "ename": "RuntimeError",
     "evalue": "InSAR and GPS do not share ANY date.",
     "output_type": "error",
     "traceback": [
      "\u001b[0;31m---------------------------------------------------------------------------\u001b[0m",
      "\u001b[0;31mRuntimeError\u001b[0m                              Traceback (most recent call last)",
      "\u001b[0;32m<ipython-input-39-d41746712743>\u001b[0m in \u001b[0;36m<module>\u001b[0;34m()\u001b[0m\n\u001b[1;32m      8\u001b[0m         \u001b[0;32mbreak\u001b[0m\u001b[0;34m\u001b[0m\u001b[0m\n\u001b[1;32m      9\u001b[0m \u001b[0;32mif\u001b[0m \u001b[0mcomm_idx\u001b[0m \u001b[0;34m==\u001b[0m \u001b[0mlen\u001b[0m\u001b[0;34m(\u001b[0m\u001b[0mpysar_times\u001b[0m\u001b[0;34m)\u001b[0m\u001b[0;34m:\u001b[0m\u001b[0;34m\u001b[0m\u001b[0m\n\u001b[0;32m---> 10\u001b[0;31m     \u001b[0;32mraise\u001b[0m \u001b[0mRuntimeError\u001b[0m\u001b[0;34m(\u001b[0m\u001b[0;34m'InSAR and GPS do not share ANY date.'\u001b[0m\u001b[0;34m)\u001b[0m\u001b[0;34m\u001b[0m\u001b[0m\n\u001b[0m\u001b[1;32m     11\u001b[0m \u001b[0mcomm_date\u001b[0m \u001b[0;34m=\u001b[0m \u001b[0mpysar_times\u001b[0m\u001b[0;34m[\u001b[0m\u001b[0mcomm_idx\u001b[0m\u001b[0;34m]\u001b[0m\u001b[0;34m\u001b[0m\u001b[0m\n\u001b[1;32m     12\u001b[0m \u001b[0mprint\u001b[0m\u001b[0;34m(\u001b[0m\u001b[0;34m'Common date: {}'\u001b[0m\u001b[0;34m.\u001b[0m\u001b[0mformat\u001b[0m\u001b[0;34m(\u001b[0m\u001b[0mcomm_date\u001b[0m\u001b[0;34m)\u001b[0m\u001b[0;34m)\u001b[0m\u001b[0;34m\u001b[0m\u001b[0m\n",
      "\u001b[0;31mRuntimeError\u001b[0m: InSAR and GPS do not share ANY date."
     ]
    }
   ],
   "source": [
    "## Plot\n",
    "title = 'Station ID = {}, lat={:.4f}, lon={:.4f}'.format(site, gps_obj.site_lat, gps_obj.site_lon)\n",
    "comm_idx = 0\n",
    "while comm_idx < len(pysar_times):\n",
    "    if pysar_times[comm_idx] not in gps_times:\n",
    "        comm_idx += 1\n",
    "    else:\n",
    "        break\n",
    "if comm_idx == len(pysar_times):\n",
    "    raise RuntimeError('InSAR and GPS do not share ANY date.')\n",
    "\n",
    "comm_date = pysar_times[comm_idx]\n",
    "print('Common date: {}'.format(comm_date))\n",
    "pysar_dis -= pysar_dis[comm_idx]\n",
    "gps_dis -= gps_dis[gps_times.index(comm_date)]\n",
    "\n",
    "plt.figure(figsize=(10, 5))\n",
    "plt.scatter(gps_times, gps_dis, s=0.2**2, label='GPS')\n",
    "plt.scatter(pysar_times, pysar_dis, s=2**2, label='InSAR')\n",
    "plt.xlabel('Time (year)')\n",
    "plt.ylabel('LOS displacement (m)')\n",
    "plt.title(title)\n",
    "\n",
    "out_file = '{}.jpg'.format(site)\n",
    "plt.savefig(out_file, bbox_inches='tight', transparent=True, dpi=fig_dpi)\n",
    "plt.show()"
   ]
  },
  {
   "cell_type": "code",
   "execution_count": 38,
   "metadata": {},
   "outputs": [
    {
     "data": {
      "text/plain": [
       "83"
      ]
     },
     "execution_count": 38,
     "metadata": {},
     "output_type": "execute_result"
    }
   ],
   "source": [
    "comm_idx"
   ]
  },
  {
   "cell_type": "code",
   "execution_count": null,
   "metadata": {
    "collapsed": true
   },
   "outputs": [],
   "source": []
  }
 ],
 "metadata": {
  "kernelspec": {
   "display_name": "Python 3",
   "language": "python",
   "name": "python3"
  },
  "language_info": {
   "codemirror_mode": {
    "name": "ipython",
    "version": 3
   },
   "file_extension": ".py",
   "mimetype": "text/x-python",
   "name": "python",
   "nbconvert_exporter": "python",
   "pygments_lexer": "ipython3",
   "version": "3.6.4"
  }
 },
 "nbformat": 4,
 "nbformat_minor": 2
}
