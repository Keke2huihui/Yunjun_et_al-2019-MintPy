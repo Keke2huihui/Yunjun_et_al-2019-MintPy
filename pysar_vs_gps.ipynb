{
 "cells": [
  {
   "cell_type": "code",
   "execution_count": 1,
   "metadata": {},
   "outputs": [
    {
     "name": "stdout",
     "output_type": "stream",
     "text": [
      "Go to directory: /Users/yunjunz/development/python/2018_ComputGeosci_PySAR/pysar_vs_gps\n"
     ]
    }
   ],
   "source": [
    "import os\n",
    "import sys\n",
    "import time\n",
    "from datetime import datetime as dt\n",
    "import numpy as np\n",
    "from matplotlib import pyplot as plt, ticker\n",
    "from pyproj import Geod\n",
    "from pysar.simulation.plot import *\n",
    "from pysar.objects import timeseries, ifgramStack, sensor\n",
    "from pysar.utils import readfile, ptime, plot as pp, writefile, utils as ut\n",
    "\n",
    "## \n",
    "## http://geodesy.unr.edu/NGLStationPages/DataHoldings.txt\n",
    "\n",
    "work_dir = '/Users/yunjunz/development/python/2018_ComputGeosci_PySAR/pysar_vs_gps'\n",
    "os.chdir(work_dir)\n",
    "print('Go to directory: '+work_dir)"
   ]
  },
  {
   "cell_type": "code",
   "execution_count": 11,
   "metadata": {},
   "outputs": [
    {
     "name": "stdout",
     "output_type": "stream",
     "text": [
      "Done.\n"
     ]
    }
   ],
   "source": [
    "\n",
    "stat_id = 'GV04'\n",
    "env_file = '/Users/yunjunz/insarlab/Galapagos/GPS/{}.IGS08.tenv3'.format(stat_id)\n",
    "\n",
    "env_content = np.loadtxt(env_file, dtype=bytes).astype(str)\n",
    "env_name = env_content[0, :]\n",
    "env_data = env_content[1:, :]\n",
    "\n",
    "# get station lat/lon\n",
    "ref_lon, ref_lat = float(env_data[0, 6]), 0.\n",
    "e0, e_off, n0, n_off = env_data[0, 7:11].astype(np.float)\n",
    "e0 += e_off\n",
    "n0 += n_off\n",
    "\n",
    "az = np.arctan2(e0, n0) / np.pi * 180.\n",
    "dist = np.sqrt(e0**2 + n0**2)\n",
    "g = Geod(ellps='WGS84')\n",
    "stat_lon, stat_lat = g.fwd(ref_lon, ref_lat, az, dist)[0:2]\n",
    "\n",
    "# displacement time-series\n",
    "gps_dates = [dt(*time.strptime(i, \"%y%b%d\")[0:5]) for i in env_data[:, 1]]\n",
    "dis_e, dis_n, dis_u = env_data[:, (8,10,12)].astype(np.float).T\n",
    "gps_dis = ut.enu2los(dis_e, dis_n, dis_u)\n",
    "print('Done.')"
   ]
  },
  {
   "cell_type": "code",
   "execution_count": 12,
   "metadata": {},
   "outputs": [
    {
     "name": "stdout",
     "output_type": "stream",
     "text": [
      "reading timeseries data from file: /Users/yunjunz/insarlab/Galapagos/GalapagosSenDT128/PYSAR/timeseries_ECMWF_demErr_refDate_plane.h5 ...\n"
     ]
    }
   ],
   "source": [
    "pysar_dir = '/Users/yunjunz/insarlab/Galapagos/GalapagosSenDT128/PYSAR/'\n",
    "lookup_file = pysar_dir+'INPUTS/geometryRadar.h5'\n",
    "ts_file = pysar_dir+'timeseries_ECMWF_demErr_refDate_plane.h5'\n",
    "atr = readfile.read_attribute(ts_file)\n",
    "y, x = ut.glob2radar(stat_lat, stat_lon, lookup_file, atr, print_msg=False)[0:2]\n",
    "\n",
    "box = (x, y, x+1, y+1)\n",
    "date_list = timeseries(ts_file).get_date_list()\n",
    "pysar_dis = readfile.read(ts_file, box=box)[0]\n",
    "pysar_dates = ptime.date_list2vector(date_list)[0]"
   ]
  },
  {
   "cell_type": "code",
   "execution_count": 17,
   "metadata": {},
   "outputs": [
    {
     "data": {
      "image/png": "[encoded data removed]",
      "text/plain": [
       "<Figure size 720x360 with 1 Axes>"
      ]
     },
     "metadata": {},
     "output_type": "display_data"
    }
   ],
   "source": [
    "title = 'lat={:.4f}, lon={:.4f}'.format(stat_lat, stat_lon)\n",
    "pysar_dis -= pysar_dis[0]\n",
    "gps_dis -= gps_dis[gps_dates.index(pysar_dates[0])]\n",
    "\n",
    "plt.figure(figsize=(10, 5))\n",
    "plt.scatter(gps_dates, gps_dis, s=0.2**2)\n",
    "plt.scatter(pysar_dates, pysar_dis, s=2**2)\n",
    "plt.title(title)\n",
    "plt.show()"
   ]
  },
  {
   "cell_type": "code",
   "execution_count": 47,
   "metadata": {},
   "outputs": [
    {
     "data": {
      "text/plain": [
       "-91.13810000000001"
      ]
     },
     "execution_count": 47,
     "metadata": {},
     "output_type": "execute_result"
    }
   ],
   "source": [
    "268.8619 - 360."
   ]
  },
  {
   "cell_type": "code",
   "execution_count": null,
   "metadata": {
    "collapsed": true
   },
   "outputs": [],
   "source": []
  }
 ],
 "metadata": {
  "kernelspec": {
   "display_name": "Python 3",
   "language": "python",
   "name": "python3"
  },
  "language_info": {
   "codemirror_mode": {
    "name": "ipython",
    "version": 3
   },
   "file_extension": ".py",
   "mimetype": "text/x-python",
   "name": "python",
   "nbconvert_exporter": "python",
   "pygments_lexer": "ipython3",
   "version": "3.6.4"
  }
 },
 "nbformat": 4,
 "nbformat_minor": 2
}
