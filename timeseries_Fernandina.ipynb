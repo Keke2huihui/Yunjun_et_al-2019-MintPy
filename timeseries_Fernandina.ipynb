{
 "cells": [
  {
   "cell_type": "code",
   "execution_count": 38,
   "metadata": {},
   "outputs": [
    {
     "name": "stdout",
     "output_type": "stream",
     "text": [
      "Go to directory: /Users/yunjunz/insarlab/Galapagos/GalapagosSenDT128/PYSAR/GEOCODE\n",
      "view.py geo_timeseries_ECMWF_demErr_refDate_ramp.h5 -m maskTempCohFernandina.h5  --sub-lon -91.67 -91.37 --sub-lat -0.51 -0.25  --wrap --wrap-range -10 10  --ncols 10 --nrows 10 --figsize 8 9 --fontsize 6 --notick --nocbar --dpi 600  --noaxis  --nodisplay  -o FernandinaSenDT128_TS.png\n",
      "Done.\n"
     ]
    }
   ],
   "source": [
    "## Plot the time-series file\n",
    "\n",
    "import os\n",
    "import numpy as np\n",
    "import matplotlib.pyplot as plt\n",
    "import matplotlib as mpl\n",
    "from pysar.simulation.plot import *\n",
    "from pysar.utils import ptime, readfile, writefile, utils as ut, network as pnet, plot as pp\n",
    "from pysar.objects import timeseries, sensor\n",
    "\n",
    "\n",
    "work_dir = '~/insarlab/Galapagos/GalapagosSenDT128/PYSAR/GEOCODE'\n",
    "work_dir = os.path.expanduser(work_dir)\n",
    "os.chdir(work_dir)\n",
    "print('Go to directory: '+work_dir)\n",
    "proj_name = sensor.project_name2sensor_name(work_dir)[1]\n",
    "\n",
    "ts_file = 'geo_timeseries_ECMWF_demErr_refDate_ramp.h5'\n",
    "mask_file = 'maskTempCohFernandina.h5'\n",
    "out_file = 'FernandinaSenDT128_TS.png'\n",
    "\n",
    "cmd = 'view.py {} -m {} '.format(ts_file, mask_file)\n",
    "cmd += ' --sub-lon -91.67 -91.37 --sub-lat -0.51 -0.25 '\n",
    "cmd += ' --wrap --wrap-range -10 10 '\n",
    "cmd += ' --ncols 10 --nrows 10 --figsize 8 9 --fontsize 6 --notick --nocbar --dpi 600 '\n",
    "cmd += ' --noaxis  --nodisplay  -o {}'.format(out_file)\n",
    "print(cmd)\n",
    "os.system(cmd)\n",
    "print('Done.')"
   ]
  },
  {
   "cell_type": "code",
   "execution_count": 39,
   "metadata": {},
   "outputs": [
    {
     "data": {
      "image/png": "[encoded data removed]",
      "text/plain": [
       "<Figure size 144x7.2 with 1 Axes>"
      ]
     },
     "metadata": {},
     "output_type": "display_data"
    }
   ],
   "source": [
    "# plot colorbar\n",
    "fig = plt.figure(figsize=(2, 0.1))\n",
    "ax = fig.add_axes([0.05, 0.05, 0.9, 0.9])\n",
    "cbar = mpl.colorbar.ColorbarBase(ax, cmap='jet', orientation='horizontal', ticks=[0, 0.5, 1], extend='both')\n",
    "cbar.ax.set_xticklabels(['-10', '0', '10'])\n",
    "cbar.ax.tick_params(which='both', direction='out', labelsize=font_size)\n",
    "cbar.set_label('LOS Displacement [cm]', fontsize=font_size)\n",
    "\n",
    "plt.savefig('{}_cbar.png'.format(os.path.splitext(out_file)[0]), bbox_inches='tight', transparent=True, dpi=fig_dpi)\n",
    "plt.show()"
   ]
  },
  {
   "cell_type": "code",
   "execution_count": null,
   "metadata": {
    "collapsed": true
   },
   "outputs": [],
   "source": [
    "\n",
    "# Plot Velocity with POI displacement timeseries\n",
    "\n",
    "\n"
   ]
  }
 ],
 "metadata": {
  "kernelspec": {
   "display_name": "Python 3",
   "language": "python",
   "name": "python3"
  },
  "language_info": {
   "codemirror_mode": {
    "name": "ipython",
    "version": 3
   },
   "file_extension": ".py",
   "mimetype": "text/x-python",
   "name": "python",
   "nbconvert_exporter": "python",
   "pygments_lexer": "ipython3",
   "version": "3.6.4"
  }
 },
 "nbformat": 4,
 "nbformat_minor": 2
}
