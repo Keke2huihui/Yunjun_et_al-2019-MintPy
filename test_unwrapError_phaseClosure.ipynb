{
 "cells": [
  {
   "cell_type": "code",
   "execution_count": 1,
   "metadata": {},
   "outputs": [
    {
     "name": "stdout",
     "output_type": "stream",
     "text": [
      "Go to directory: /Users/yunjunz/development/python/2019_RSE_PYSAR/sim_phaseClosure\n",
      "write baseline list info to file: bl_list.txt\n"
     ]
    }
   ],
   "source": [
    "%matplotlib inline\n",
    "\n",
    "import os\n",
    "import sys\n",
    "import time\n",
    "import pickle\n",
    "import numpy as np\n",
    "from matplotlib import pyplot as plt, ticker\n",
    "from scipy import linalg\n",
    "from pysar.simulation.plot import *\n",
    "from pysar.simulation import simulation as sim\n",
    "from pysar.objects import timeseries, ifgramStack, sensor\n",
    "from pysar.utils import readfile, ptime, plot as pp, writefile, utils as ut, network as pnet\n",
    "import pysar.ifgram_inversion as ifginv\n",
    "#from pysar.unwrap_error_phase_closure import correct_unwrap_error_closure\n",
    "\n",
    "work_dir = os.path.expandvars('$PNOTE/sim_phaseClosure')\n",
    "os.chdir(work_dir)\n",
    "print('Go to directory: '+work_dir)\n",
    "\n",
    "# reference file\n",
    "proj_dir = os.path.expanduser('~/insarlab/Galapagos/GalapagosSenDT128/PYSAR')\n",
    "sensor_name = sensor.project_name2sensor_name(proj_dir)[0]\n",
    "ts_file = os.path.join(proj_dir, 'timeseries.h5')\n",
    "ts_obj = timeseries(ts_file)\n",
    "ts_obj.open(print_msg=False)\n",
    "ts_obj.save2bl_list_file(out_file='bl_list.txt')\n",
    "\n",
    "# specified time-series\n",
    "inc_angle = ut.incidence_angle(ts_obj.metadata, dimension=0, print_msg=False)\n",
    "tbase = np.array(ts_obj.tbase)\n",
    "ts_sim = sim.sim_variable_timeseries(tbase, display=False)\n",
    "\n",
    "## Decorrelation Noise Setup\n",
    "coh_resid, decor_time = 0.0, 200  # 0.0, 50; 0.1, 50; 0.0, 200; 0.2, 200; 0.4, 200"
   ]
  },
  {
   "cell_type": "code",
   "execution_count": 2,
   "metadata": {},
   "outputs": [
    {
     "name": "stdout",
     "output_type": "stream",
     "text": [
      "number of ifgrams: 3\n",
      "number of triplets: 1\n",
      "ifgram with unwrap error: 0.35\n",
      "unwrap error jump in 2*pi*(-2, 2): \n",
      "number of ifgrams with unwrap error: 1\n",
      "max perpendicular baseline: 62.84 m\n",
      "max temporal      baseline: 84.0 days\n"
     ]
    },
    {
     "data": {
      "image/png": "[encoded data removed]",
      "text/plain": [
       "<Figure size 432x288 with 1 Axes>"
      ]
     },
     "metadata": {
      "needs_background": "light"
     },
     "output_type": "display_data"
    }
   ],
   "source": [
    "## Simulate interferograms with unwrapping errors\n",
    "\n",
    "# temp/spatial baseline\n",
    "date_list = ts_obj.dateList[:3]\n",
    "pbase = ts_obj.pbase[:3]\n",
    "dates = ptime.date_list2vector(date_list)[0]\n",
    "\n",
    "# network setup\n",
    "date12_list = pnet.select_pairs_sequential(date_list, num_connection=5, date12_format='YYYYMMDD_YYYYMMDD')\n",
    "num_ifgram = len(date12_list)\n",
    "C = ifgramStack.get_design_matrix4triplet(date12_list=date12_list)\n",
    "print('number of ifgrams: {}'.format(num_ifgram))\n",
    "print('number of triplets: {}'.format(C.shape[0]))\n",
    "\n",
    "# simulate ifgram without unwrap error\n",
    "ifgram, cor = sim.simulate_network(ts_sim, date12_list, decor_time, coh_resid, L=3*9, num_sample=1, baseline_file='bl_list.txt', sensor_name=sensor_name, inc_angle=inc_angle)[0:2]\n",
    "ifgram = ifgram.flatten()\n",
    "cor = cor.flatten()\n",
    "# add unwrap error\n",
    "ifgram_err, idx_ifg_err = sim.add_unw_err2ifgram(ifgram, percentage=0.35, Nmax=2, print_msg=True)\n",
    "\n",
    "# plot\n",
    "fig, ax = plt.subplots()\n",
    "pp.plot_network(ax, date12_list, date_list, pbase)\n",
    "# plot interferometric pairs with error\n",
    "for date12 in np.array(date12_list)[idx_ifg_err]:\n",
    "    date1, date2 = date12.split('_')\n",
    "    idx1 = date_list.index(date1)\n",
    "    idx2 = date_list.index(date2)\n",
    "    x = [dates[idx1], dates[idx2]]\n",
    "    y = [pbase[idx1], pbase[idx2]]\n",
    "    ax.plot(x, y, '-', lw=2, alpha=1.0, c=pp.mplColors[1])\n",
    "# axis format\n",
    "pp.auto_adjust_xaxis_date(ax, dates, fontsize=font_size)\n",
    "ax.set_xlabel('Time [yr]', fontsize=font_size)\n",
    "ax.set_ylabel('Perp baseline [m]', fontsize=font_size)\n",
    "plt.show()"
   ]
  },
  {
   "cell_type": "code",
   "execution_count": 7,
   "metadata": {},
   "outputs": [
    {
     "data": {
      "image/png": "[encoded data removed]",
      "text/plain": [
       "<Figure size 432x144 with 1 Axes>"
      ]
     },
     "metadata": {
      "needs_background": "light"
     },
     "output_type": "display_data"
    }
   ],
   "source": [
    "# correct unwrap error\n",
    "Dconstraint = True\n",
    "thres = 0.02 # cycles\n",
    "alpha = 0.25\n",
    "\n",
    "#ifgram_cor = correct_unwrap_error_closure(ifgram_err, C, Dconstraint=True, alpha=0.25)[0].flatten()\n",
    "num_tri, num_ifgram = C.shape\n",
    "ifgram_err = ifgram_err.reshape(num_ifgram, -1)\n",
    "\n",
    "# integer ambiguity of the closure phase\n",
    "closure_pha = np.dot(C, ifgram_err)\n",
    "closure_int = (closure_pha - ut.wrap(closure_pha)) / (2.*np.pi)\n",
    "\n",
    "# prepare design matrix\n",
    "A = np.array(-1.*C, dtype=np.float32)\n",
    "I = np.eye(num_ifgram, dtype=np.float32)\n",
    "# Opt 1. Constraint on \"unwrapping-error free\" interferograms\n",
    "if Dconstraint:\n",
    "    idx_nonzero = (np.abs(closure_int) >= thres).flatten()\n",
    "    idx_ifgram = np.sum(C[idx_nonzero, :] != 0., axis=0) == 0.\n",
    "    D = I[idx_ifgram, :]\n",
    "    A = np.vstack((A, D))\n",
    "# Opt 2. Tikhonov regularization (alpha*D0) to solve equation in ill-posed scenario:\n",
    "A = np.vstack((A, alpha*I))\n",
    "\n",
    "# L2-norm optimization -> least squares estimation\n",
    "U = np.zeros(ifgram_err.shape, np.float32)\n",
    "try:\n",
    "    A_inv = linalg.pinv2(A, rcond=1e-8)\n",
    "    B = np.zeros((A.shape[0], ifgram_err.shape[1]), np.float32)\n",
    "    B[0:num_tri, :] = closure_pha / (2.*np.pi)  #this gives better result than minimizing closure_int\n",
    "    U = np.round(np.dot(A_inv, B))\n",
    "except linalg.LinAlgError:\n",
    "    pass\n",
    "# corrected interferogram\n",
    "ifgram_cor = ifgram_err + 2*np.pi*U\n",
    "ifgram_err = ifgram_err.flatten()\n",
    "ifgram_cor = ifgram_cor.flatten()\n",
    "\n",
    "# plot\n",
    "fig, ax = plt.subplots(figsize=[6, 2])\n",
    "x = np.arange(num_ifgram)\n",
    "ax.bar(x, ifgram_err - ifgram, color=pp.mplColors[1], label='error before')\n",
    "ax.bar(x, ifgram_cor - ifgram, color=pp.mplColors[0], label='error after', alpha=0.5)\n",
    "# axis format\n",
    "ax.tick_params(which='both', direction='in', labelsize=font_size, bottom=True, top=True, left=True, right=True)\n",
    "ax.xaxis.set_minor_locator(ticker.AutoMinorLocator())\n",
    "ax.set_yticks([-4*np.pi, -2*np.pi, 0, 2*np.pi, 4*np.pi])\n",
    "ax.set_yticklabels([r'-4$\\pi$', r'-2$\\pi$', '0', r'2$\\pi$', r'4$\\pi$'])\n",
    "ax.set_xlabel('Interferogram #', fontsize=font_size)\n",
    "ax.set_ylabel('Residual phase [rad]', fontsize=font_size)\n",
    "#ax.set_xlim(0, ifgram.shape[0])\n",
    "plt.legend()\n",
    "plt.show()"
   ]
  },
  {
   "cell_type": "code",
   "execution_count": 8,
   "metadata": {},
   "outputs": [
    {
     "data": {
      "text/plain": [
       "(['20141213_20141225', '20141213_20150307', '20141225_20150307'],\n",
       " array([0.11852357, 0.65156746, 0.48256183], dtype=float32),\n",
       " array([1., 1., 1.], dtype=float32))"
      ]
     },
     "execution_count": 8,
     "metadata": {},
     "output_type": "execute_result"
    }
   ],
   "source": [
    "date12_list, ifgram, cor"
   ]
  },
  {
   "cell_type": "code",
   "execution_count": 9,
   "metadata": {},
   "outputs": [
    {
     "data": {
      "text/plain": [
       "(array([ 0.11852357,  0.65156746, 13.048932  ], dtype=float32),\n",
       " array([[12.515888]], dtype=float32),\n",
       " array([[2.]], dtype=float32))"
      ]
     },
     "execution_count": 9,
     "metadata": {},
     "output_type": "execute_result"
    }
   ],
   "source": [
    "ifgram_err, closure_pha, closure_int"
   ]
  },
  {
   "cell_type": "code",
   "execution_count": 8,
   "metadata": {},
   "outputs": [],
   "source": [
    "def correct_unwrap_error_closure(ifgram, C, Dconstraint=True, thres=0.02, alpha=0.25):\n",
    "    num_tri, num_ifgram = C.shape\n",
    "    ifgram = ifgram.reshape(num_ifgram, -1)\n",
    "    \n",
    "    # integer ambiguity of the closure phase\n",
    "    closure_pha = np.dot(C, ifgram)\n",
    "    closure_int = (closure_pha - ut.wrap(closure_pha)) / (2.*np.pi)\n",
    "    \n",
    "    # prepare design matrix\n",
    "    A = np.array(-1.*C, dtype=np.float32)\n",
    "    I = np.eye(num_ifgram, dtype=np.float32)\n",
    "    # Opt 1. Constraint on \"unwrapping-error free\" interferograms\n",
    "    if Dconstraint:\n",
    "        idx_nonzero = (closure_int >= thres).flatten()\n",
    "        idx_ifgram = np.sum(C[idx_nonzero, :] != 0., axis=0) == 0.\n",
    "        D = I[idx_ifgram, :]\n",
    "        A = np.vstack((A, D))\n",
    "    # Opt 2. Tikhonov regularization (alpha*D0) to solve equation in ill-posed scenario:\n",
    "    A = np.vstack((A, alpha*I))\n",
    "    \n",
    "    # L2-norm optimization -> least squares estimation\n",
    "    U = np.zeros(ifgram.shape, np.float32)\n",
    "    try:\n",
    "        A_inv = linalg.pinv2(A, rcond=1e-8)\n",
    "        B = np.zeros((A.shape[0], ifgram.shape[1]), np.float32)\n",
    "        B[0:num_tri, :] = closure_pha / (2.*np.pi)  #this gives better result than minimizing closure_int\n",
    "        U = np.round(np.dot(A_inv, B))\n",
    "    except linalg.LinAlgError:\n",
    "        pass\n",
    "    # corrected interferogram\n",
    "    ifgram_cor = ifgram + 2*np.pi*U\n",
    "    ifgram = ifgram.flatten()\n",
    "    ifgram_cor = ifgram_cor.flatten()\n",
    "    return ifgram_cor"
   ]
  },
  {
   "cell_type": "code",
   "execution_count": null,
   "metadata": {},
   "outputs": [],
   "source": []
  }
 ],
 "metadata": {
  "kernelspec": {
   "display_name": "Python 3",
   "language": "python",
   "name": "python3"
  },
  "language_info": {
   "codemirror_mode": {
    "name": "ipython",
    "version": 3
   },
   "file_extension": ".py",
   "mimetype": "text/x-python",
   "name": "python",
   "nbconvert_exporter": "python",
   "pygments_lexer": "ipython3",
   "version": "3.6.7"
  }
 },
 "nbformat": 4,
 "nbformat_minor": 2
}
