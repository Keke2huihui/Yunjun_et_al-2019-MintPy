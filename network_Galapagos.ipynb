{
 "cells": [
  {
   "cell_type": "code",
   "execution_count": 4,
   "metadata": {},
   "outputs": [
    {
     "name": "stdout",
     "output_type": "stream",
     "text": [
      "cd /Users/yunjunz/insarlab/PYSAR_EXAMPLE/AlcedoAlosAT133/PYSAR\n",
      "generate_mask.py INPUTS/geometryRadar.h5 height -m 0.5 -o waterMask.h5\n",
      "plot_network.py INPUTS/ifgramStack.h5 --mask waterMask.h5 --notitle --threshold 0.7 --fontsize 12 --dpi 600 --figext .jpg --nodisplay\n",
      "mv Network.jpg /Users/yunjunz/development/python/2018_ComputGeosci_PySAR/network_Galapagos/Network_AlcedoAlosAT133.jpg\n",
      "cd /Users/yunjunz/insarlab/PYSAR_EXAMPLE/AlcedoEnvA2T061/PYSAR\n",
      "generate_mask.py INPUTS/geometryRadar.h5 height -m 0.5 -o waterMask.h5\n",
      "plot_network.py INPUTS/ifgramStack.h5 --mask waterMask.h5 --notitle --threshold 0.7 --fontsize 12 --dpi 600 --figext .jpg --nodisplay\n",
      "mv Network.jpg /Users/yunjunz/development/python/2018_ComputGeosci_PySAR/network_Galapagos/Network_AlcedoEnvA2T061.jpg\n",
      "cd /Users/yunjunz/insarlab/PYSAR_EXAMPLE/AlcedoSenDT128/PYSAR\n",
      "generate_mask.py INPUTS/geometryRadar.h5 height -m 0.5 -o waterMask.h5\n",
      "plot_network.py INPUTS/ifgramStack.h5 --mask waterMask.h5 --notitle --threshold 0.7 --fontsize 12 --dpi 600 --figext .jpg --nodisplay\n",
      "mv Network.jpg /Users/yunjunz/development/python/2018_ComputGeosci_PySAR/network_Galapagos/Network_AlcedoSenDT128.jpg\n"
     ]
    }
   ],
   "source": [
    "# Network of Interferograms for 3 Galapagos datasets: Alos, Env and Sen\n",
    "\n",
    "import os\n",
    "out_dir = '/Users/yunjunz/development/python/2018_ComputGeosci_PySAR/network_Galapagos'\n",
    "if not os.path.isdir(out_dir):\n",
    "    os.makedirs(out_dir)\n",
    "\n",
    "for project_name in ['AlcedoAlosAT133', 'AlcedoEnvA2T061', 'AlcedoSenDT128']:\n",
    "    plotCmd = 'cd /Users/yunjunz/insarlab/PYSAR_EXAMPLE/{}/PYSAR\\n'.format(project_name)\n",
    "    plotCmd += 'generate_mask.py INPUTS/geometryRadar.h5 height -m 0.5 -o waterMask.h5\\n'\n",
    "    plotCmd += 'plot_network.py INPUTS/ifgramStack.h5 --mask waterMask.h5 --notitle --threshold 0.7 --fontsize 12 --dpi 600 --figext .jpg --nodisplay\\n'\n",
    "    out_file = 'Network_{}.jpg'.format(project_name)\n",
    "    plotCmd += 'mv Network.jpg {}'.format(os.path.join(out_dir, out_file))\n",
    "    print(plotCmd)\n",
    "    os.system(plotCmd)\n",
    "print('Done.')"
   ]
  },
  {
   "cell_type": "code",
   "execution_count": null,
   "metadata": {
    "collapsed": true
   },
   "outputs": [],
   "source": []
  }
 ],
 "metadata": {
  "kernelspec": {
   "display_name": "Python 3",
   "language": "python",
   "name": "python3"
  },
  "language_info": {
   "codemirror_mode": {
    "name": "ipython",
    "version": 3
   },
   "file_extension": ".py",
   "mimetype": "text/x-python",
   "name": "python",
   "nbconvert_exporter": "python",
   "pygments_lexer": "ipython3",
   "version": "3.6.4"
  }
 },
 "nbformat": 4,
 "nbformat_minor": 2
}
