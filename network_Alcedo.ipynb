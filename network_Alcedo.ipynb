{
 "cells": [
  {
   "cell_type": "code",
   "execution_count": 7,
   "metadata": {},
   "outputs": [
    {
     "name": "stdout",
     "output_type": "stream",
     "text": [
      "cd /Users/yunjunz/insarlab/PYSAR_EXAMPLE/AlcedoAlosAT133/PYSAR\n",
      "generate_mask.py INPUTS/geometryRadar.h5 height -m 0.5 -o waterMask.h5\n",
      "plot_network.py INPUTS/ifgramStack.h5 --mask waterMask.h5 --notitle --threshold 0.7 --fontsize 12 --dpi 600 --figext .jpg --figsize 4 3 --ms 8 --every-year 1 --nodisplay\n",
      "mv ifgram_list.txt /Users/yunjunz/development/python/2018_ComputGeosci_PySAR/network_Alcedo/ifgram_list_AlcedoAlosAT133.txt\n",
      "mv Network.jpg /Users/yunjunz/development/python/2018_ComputGeosci_PySAR/network_Alcedo/Network_AlcedoAlosAT133.jpg\n",
      "mv CoherenceMatrix.jpg /Users/yunjunz/development/python/2018_ComputGeosci_PySAR/network_Alcedo/CoherenceMatrix_AlcedoAlosAT133.jpg\n",
      "\n",
      "cd /Users/yunjunz/insarlab/PYSAR_EXAMPLE/AlcedoEnvA2T061/PYSAR\n",
      "generate_mask.py INPUTS/geometryRadar.h5 height -m 0.5 -o waterMask.h5\n",
      "plot_network.py INPUTS/ifgramStack.h5 --mask waterMask.h5 --notitle --threshold 0.7 --fontsize 12 --dpi 600 --figext .jpg --figsize 4 3 --ms 8 --every-year 2 --nodisplay\n",
      "mv ifgram_list.txt /Users/yunjunz/development/python/2018_ComputGeosci_PySAR/network_Alcedo/ifgram_list_AlcedoEnvA2T061.txt\n",
      "mv Network.jpg /Users/yunjunz/development/python/2018_ComputGeosci_PySAR/network_Alcedo/Network_AlcedoEnvA2T061.jpg\n",
      "mv CoherenceMatrix.jpg /Users/yunjunz/development/python/2018_ComputGeosci_PySAR/network_Alcedo/CoherenceMatrix_AlcedoEnvA2T061.jpg\n",
      "\n",
      "cd /Users/yunjunz/insarlab/PYSAR_EXAMPLE/AlcedoSenDT128/PYSAR\n",
      "generate_mask.py INPUTS/geometryRadar.h5 height -m 0.5 -o waterMask.h5\n",
      "plot_network.py INPUTS/ifgramStack.h5 --mask waterMask.h5 --notitle --threshold 0.7 --fontsize 12 --dpi 600 --figext .jpg --figsize 4 3 --ms 8 --every-year 1 --nodisplay\n",
      "mv ifgram_list.txt /Users/yunjunz/development/python/2018_ComputGeosci_PySAR/network_Alcedo/ifgram_list_AlcedoSenDT128.txt\n",
      "mv Network.jpg /Users/yunjunz/development/python/2018_ComputGeosci_PySAR/network_Alcedo/Network_AlcedoSenDT128.jpg\n",
      "mv CoherenceMatrix.jpg /Users/yunjunz/development/python/2018_ComputGeosci_PySAR/network_Alcedo/CoherenceMatrix_AlcedoSenDT128.jpg\n",
      "\n",
      "Done.\n"
     ]
    }
   ],
   "source": [
    "# Network of Interferograms for 3 Galapagos datasets: Alos, Env and Sen\n",
    "\n",
    "import os\n",
    "from pysar.simulation.plot import *\n",
    "\n",
    "out_dir = '/Users/yunjunz/development/python/2018_ComputGeosci_PySAR/network_Alcedo'\n",
    "if not os.path.isdir(out_dir):\n",
    "    os.makedirs(out_dir)\n",
    "\n",
    "for project_name, num_year in zip(['AlcedoAlosAT133', 'AlcedoEnvA2T061', 'AlcedoSenDT128'],\n",
    "                                  [1, 2, 1]):\n",
    "    plotCmd = 'cd /Users/yunjunz/insarlab/PYSAR_EXAMPLE/{}/PYSAR\\n'.format(project_name)\n",
    "    plotCmd += 'generate_mask.py INPUTS/geometryRadar.h5 height -m 0.5 -o waterMask.h5\\n'\n",
    "    plotCmd += ('plot_network.py INPUTS/ifgramStack.h5 --mask waterMask.h5 --notitle --threshold 0.7 '\n",
    "                '--fontsize {fs} --dpi {dpi} --figext {ext} --figsize 4 3 --ms 8 '\n",
    "                '--every-year {y} --nodisplay\\n'.format(fs=font_size,\n",
    "                                                        dpi=fig_dpi,\n",
    "                                                        ext=fig_ext,\n",
    "                                                        y=num_year))\n",
    "    file_list = ['ifgram_list.txt', 'Network{}'.format(fig_ext), 'CoherenceMatrix{}'.format(fig_ext)]\n",
    "    for fname in file_list:\n",
    "        fbase, fext = os.path.splitext(fname)\n",
    "        out_file = os.path.join(out_dir, '{}_{}{}'.format(fbase, project_name, fext))\n",
    "        plotCmd += 'mv {} {}\\n'.format(fname, out_file)\n",
    "    print(plotCmd)\n",
    "    os.system(plotCmd)\n",
    "print('Done.')"
   ]
  },
  {
   "cell_type": "code",
   "execution_count": null,
   "metadata": {
    "collapsed": true
   },
   "outputs": [],
   "source": []
  }
 ],
 "metadata": {
  "kernelspec": {
   "display_name": "Python 3",
   "language": "python",
   "name": "python3"
  },
  "language_info": {
   "codemirror_mode": {
    "name": "ipython",
    "version": 3
   },
   "file_extension": ".py",
   "mimetype": "text/x-python",
   "name": "python",
   "nbconvert_exporter": "python",
   "pygments_lexer": "ipython3",
   "version": "3.6.4"
  }
 },
 "nbformat": 4,
 "nbformat_minor": 2
}
