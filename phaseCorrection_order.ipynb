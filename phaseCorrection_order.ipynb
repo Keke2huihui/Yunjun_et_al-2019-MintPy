{
 "cells": [
  {
   "cell_type": "code",
   "execution_count": 14,
   "metadata": {
    "scrolled": false
   },
   "outputs": [
    {
     "name": "stdout",
     "output_type": "stream",
     "text": [
      "Go to directory: /Users/yunjunz/development/python/2018_ComputGeosci_PySAR/phaseCorrection_order\n"
     ]
    }
   ],
   "source": [
    "# Examine the right order of different phase corrections in time-series: tropo, DEM error and/or ramp\n",
    "# The simulated time-series includes:\n",
    "#     1) simulated displacement time-series\n",
    "#     2) stratified tropospheric delay from MERRA\n",
    "#     3) stochatic tropospheric turbulence based on power-law characteristics\n",
    "#        with power factor estimated from real time-series phase residual\n",
    "#     4) topographic residual phase from DEM error estimated in real data\n",
    "#     5) plane phase ramp estimated from real data\n",
    "#\n",
    "# The simulated time-series can be generated from the following notebook:\n",
    "#     1) sim_trop_turbulence\n",
    "#     2) sim_timeseries\n",
    "\n",
    "import os\n",
    "\n",
    "work_dir = '/Users/yunjunz/development/python/2018_ComputGeosci_PySAR/phaseCorrection_order'\n",
    "if not os.path.isdir(work_dir):\n",
    "    os.makedirs(work_dir)\n",
    "os.chdir(work_dir)\n",
    "print('Go to directory: '+work_dir)\n",
    "\n",
    "\n",
    "sim_vel_file = 'velocity_sim.h5'\n",
    "pysar_vel_file = 'velocity_pysar.h5'\n",
    "giant_vel_file = 'velocity_giant.h5'\n"
   ]
  },
  {
   "cell_type": "code",
   "execution_count": 15,
   "metadata": {},
   "outputs": [
    {
     "name": "stdout",
     "output_type": "stream",
     "text": [
      "timeseries2velocity.py timeseriesSim.h5 -o velocity_sim.h5\n"
     ]
    },
    {
     "data": {
      "text/plain": [
       "0"
      ]
     },
     "execution_count": 15,
     "metadata": {},
     "output_type": "execute_result"
    }
   ],
   "source": [
    "# simulated velocity: truth\n",
    "cmd = 'timeseries2velocity.py timeseriesSim.h5 -o {}'.format(sim_vel_file)\n",
    "print(cmd)\n",
    "os.system(cmd)"
   ]
  },
  {
   "cell_type": "code",
   "execution_count": 5,
   "metadata": {},
   "outputs": [
    {
     "data": {
      "text/plain": [
       "256.0"
      ]
     },
     "execution_count": 5,
     "metadata": {},
     "output_type": "execute_result"
    }
   ],
   "source": [
    "# velocity with timeseries phase correction order from PYSAR\n",
    "cmd = 'diff.py timeseries.h5 ECMWF.h5 -o timeseries_ECMWF.h5\\n'\n",
    "cmd += 'dem_error.py timeseries_ECMWF.h5 -g geometryRadar.h5 -o timeseries_ECMWF_demErr.h5\\n'\n",
    "cmd += 'remove_ramp.py timeseries_ECMWF_demErr.h5 -m waterMask.h5 -o '"
   ]
  },
  {
   "cell_type": "code",
   "execution_count": null,
   "metadata": {
    "collapsed": true
   },
   "outputs": [],
   "source": []
  }
 ],
 "metadata": {
  "kernelspec": {
   "display_name": "Python 3",
   "language": "python",
   "name": "python3"
  },
  "language_info": {
   "codemirror_mode": {
    "name": "ipython",
    "version": 3
   },
   "file_extension": ".py",
   "mimetype": "text/x-python",
   "name": "python",
   "nbconvert_exporter": "python",
   "pygments_lexer": "ipython3",
   "version": "3.6.4"
  }
 },
 "nbformat": 4,
 "nbformat_minor": 2
}
