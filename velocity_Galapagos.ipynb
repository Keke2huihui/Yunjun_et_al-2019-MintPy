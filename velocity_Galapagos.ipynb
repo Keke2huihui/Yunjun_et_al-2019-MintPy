{
 "cells": [
  {
   "cell_type": "code",
   "execution_count": 6,
   "metadata": {},
   "outputs": [
    {
     "name": "stdout",
     "output_type": "stream",
     "text": [
      "Go to directory: /Users/yunjunz/insarlab/Galapagos/GalapagosSenDT128/PYSAR/GEOCODE\n",
      "view.py velocity_masked.h5 velocity --mask no --sub-lat -1.2 0.2 --sub-lon -91.7 -90.75 -c jet8 --vlim -13 67 --dem dem_masked.h5 --dem-nocontour --lalo-label --scalebar 0.3 0.8 0.03 --notitle --figsize 5 5 --fontsize 12 -o velocity_GalapagosSenDT128.png --dpi 600 --nodisplay \n",
      "Done.\n"
     ]
    }
   ],
   "source": [
    "## Plot Velocity Map for the whole Galapagos Islands\n",
    "import os\n",
    "from pysar.simulation.plot import *\n",
    "from pysar.objects import sensor\n",
    "\n",
    "work_dir = '/Users/yunjunz/insarlab/Galapagos/GalapagosSenDT128/PYSAR/GEOCODE'\n",
    "os.chdir(work_dir)\n",
    "print('Go to directory: '+work_dir)\n",
    "\n",
    "\n",
    "generate_masked_dem = False\n",
    "if generate_masked_dem:\n",
    "    cmd = 'load_hdf5.py ../../DEM/demLat_S02_N01_Lon_W092_W090.dem.wgs84 -o dem.h5 --data-type np.float32\\n'\n",
    "    cmd += 'generate_mask.py dem.h5 -m 0.5 -o demWaterMask.h5\\n'\n",
    "    cmd += 'mask.py dem.h5 -m demWaterMask.h5'\n",
    "    print(cmd)\n",
    "    os.system(cmd)\n",
    "\n",
    "generate_velocity = False\n",
    "if generate_velocity:\n",
    "    cmd = 'subset.py geo_velocity_masked.h5 -r dem.h5 -o velocity_masked.h5 --outfill NaN'\n",
    "    print(cmd)\n",
    "    os.system(cmd)\n",
    "\n",
    "proj_name = sensor.project_name2sensor_name(work_dir)[1]\n",
    "out_file = 'velocity_{}.png'.format(proj_name)\n",
    "cmd = 'view.py velocity_masked.h5 velocity --mask no --sub-lat -1.2 0.2 --sub-lon -91.7 -90.75 '\n",
    "cmd += '-c jet8 --vlim -13 67 '\n",
    "cmd += '--dem dem_masked.h5 --dem-nocontour '\n",
    "cmd += '--lalo-label --scalebar 0.3 0.8 0.03 --notitle --figsize 5 5 --fontsize 12 '\n",
    "cmd += '-o {} --dpi {} --nodisplay '.format(out_file, fig_dpi)\n",
    "print(cmd)\n",
    "os.system(cmd)\n",
    "print('Done.')"
   ]
  },
  {
   "cell_type": "code",
   "execution_count": null,
   "metadata": {
    "collapsed": true
   },
   "outputs": [],
   "source": []
  }
 ],
 "metadata": {
  "kernelspec": {
   "display_name": "Python 3",
   "language": "python",
   "name": "python3"
  },
  "language_info": {
   "codemirror_mode": {
    "name": "ipython",
    "version": 3
   },
   "file_extension": ".py",
   "mimetype": "text/x-python",
   "name": "python",
   "nbconvert_exporter": "python",
   "pygments_lexer": "ipython3",
   "version": "3.6.4"
  }
 },
 "nbformat": 4,
 "nbformat_minor": 2
}
